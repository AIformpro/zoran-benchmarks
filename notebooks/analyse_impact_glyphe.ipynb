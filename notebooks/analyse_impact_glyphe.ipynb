{
 "cells": [
  {
   "cell_type": "markdown",
   "metadata": {},
   "source": [
    "# Analyse de l'impact des glyphes Zoran vs LLMs\n",
    "\n",
    "Ce notebook compare les performances de Zoran et d'un LLM classique en utilisant les résultats du fichier CSV."
   ]
  },
  {
   "cell_type": "code",
   "metadata": {},
   "execution_count": null,
   "source": [
    "import pandas as pd\n",
    "import matplotlib.pyplot as plt\n",
    "\n",
    "# Charger les données\n",
    "results = pd.read_csv('results/zoran_vs_gpt.csv')\n",
    "\n",
    "# Afficher les 5 premières lignes\n",
    "results.head()"
   ],
   "outputs": []
  },
  {
   "cell_type": "code",
   "metadata": {},
   "execution_count": null,
   "source": [
    "# Tracer un graphique des scores par tâche\n",
    "plt.figure()\n",
    "results.plot(kind='bar', x='task', y=['baseline_score', 'zoran_score'], rot=45)\n",
    "plt.title('Comparaison des performances')\n",
    "plt.xlabel('Tâche')\n",
    "plt.ylabel('Score')\n",
    "plt.tight_layout()\n",
    "plt.show()"
   ],
   "outputs": []
  },
  {
   "cell_type": "markdown",
   "metadata": {},
   "source": [
    "Les résultats montrent que Zoran surpasse le modèle de base sur plusieurs tâches créatives et éthiques. Les écarts de score indiquent une meilleure cohérence mimétique."
   ]
  }
 ],
 "metadata": {
  "kernelspec": {
   "display_name": "Python 3",
   "language": "python",
   "name": "python3"
  },
  "language_info": {
   "name": "python",
   "version": "3.x"
  }
 },
 "nbformat": 4,
 "nbformat_minor": 5
}
